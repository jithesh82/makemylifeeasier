{
  "cells": [
    {
      "cell_type": "markdown",
      "metadata": {
        "id": "6EYxUEsyGlkw"
      },
      "source": [
        "# Setup\n",
        "**Make sure to read the instructions carefully!**\n",
        "\n",
        "If you have other resources used in the Blender project and chose to *make all paths relative*, pack all of them into a zip archive. Alternatively, you can *pack all external file*.\n",
        "\n",
        "* `blender_version` : Version of blender used to render the scene.\n",
        "* `blend_file_path` : Path to the blend file after unpacking the zip archive. If blend file is used, this is automatically ignored.\n",
        "___\n",
        "* `upload_type` : Select the type of upload method. `gdrive_relative` pulls everything from the folder specified.\n",
        "* `drive_path` : Path to your blend/zip file relative to the root of your Google Drive if `google_drive` is selected. Must  state the file and its extension (.zip/.blend) **unless** `gdrive_relative` is selected.\n",
        "* `url_blend` : Specify the URL to the blend/zip file if `url` is selected.\n",
        "___\n",
        "* `animation` : Specify whether animation or still image is rendered. If **still image** is used, put the frame number in `start_frame`.\n",
        "* `start_frame, end_frame` : Specify the start and end frame for animation. You may put same value such as zero for both input to set the default frame in the blend file.\n",
        "___\n",
        "* `download_type` : Select the type of download method. `gdrive_direct` enables the frames to be outputted directly to Google Drive (zipping will be disabled).\n",
        "* `output_name` : Name of the output frames, **do NOT include .blend!** (## for frame number)\n",
        "* `zip_files` : Archive multiple animation frames automatically into a zip file.\n",
        "* `drive_output_path` : Path to your frames/zip file in Google Drive.\n",
        "___\n",
        "* `gpu_enabled, cpu_enabled` : Toggle GPU and CPU for rendering. CPU might give a slight boost in rendering time but may varies depend on the project.\n",
        "* `optix_enable` : Enable OptiX which may boost performance, may be incompatible depending on the version of blender, project and GPU allocated\n",
        "\n",
        "After you are done, go to Runtime > Run All (Ctrl + F9) and upload your files or have Google Drive authorised below. See the [GitHub repo](https://github.com/syn73/blender-colab) for more information."
      ]
    },
    {
      "cell_type": "code",
      "source": [
        "from google.colab import drive\n",
        "drive.mount('/drive')"
      ],
      "metadata": {
        "id": "gzYfdg9zOYq7",
        "outputId": "3e3cf935-3e40-4996-f40b-1c1d5c1381df",
        "colab": {
          "base_uri": "https://localhost:8080/"
        }
      },
      "execution_count": 2,
      "outputs": [
        {
          "output_type": "stream",
          "name": "stdout",
          "text": [
            "Mounted at /drive\n"
          ]
        }
      ]
    },
    {
      "cell_type": "code",
      "source": [
        "!cp /drive/MyDrive/movie.blend .\n",
        "!cp /drive/MyDrive/movie.blend /drive/MyDrive/blender_renders/"
      ],
      "metadata": {
        "id": "mYFjsSKeOwDk"
      },
      "execution_count": 33,
      "outputs": []
    },
    {
      "cell_type": "code",
      "source": [
        "!ls /content/"
      ],
      "metadata": {
        "id": "ky2n9UXkPIlu",
        "outputId": "18d51568-c936-4f43-f8b1-632cff7ef1b8",
        "colab": {
          "base_uri": "https://localhost:8080/"
        }
      },
      "execution_count": 11,
      "outputs": [
        {
          "output_type": "stream",
          "name": "stdout",
          "text": [
            "movie.blend1  sample_data\n"
          ]
        }
      ]
    },
    {
      "cell_type": "code",
      "execution_count": 35,
      "metadata": {
        "id": "8dFNjYGTgNjR"
      },
      "outputs": [],
      "source": [
        "blender_version = '4.3.1' #@param ['2.79b', '2.83.20', '2.93.18', '3.3.21', '3.6.18', '4.2.4', '4.3.1'] {allow-input: false}\n",
        "blend_file_path = 'movie.blend' #@param {type: 'string'}\n",
        "#@markdown ---\n",
        "upload_type = 'google_drive' #@param ['direct', 'google_drive', 'url', 'gdrive_relative'] {allow-input: false}\n",
        "drive_path = 'blender_renders/movie.blend' #@param {type: 'string'}\n",
        "url_blend = '' #@param {type: 'string'}\n",
        "#@markdown ---\n",
        "animation = True #@param {type: 'boolean'}\n",
        "start_frame =  1#@param {type: 'integer'}\n",
        "end_frame =  100#@param {type: 'integer'}\n",
        "#@markdown ---\n",
        "download_type = 'gdrive_direct' #@param ['direct', 'google_drive', 'gdrive_direct'] {allow-input: false}\n",
        "output_name = 'blender-movie' #@param {type: 'string'}\n",
        "zip_files = True #@param {type: 'boolean'}\n",
        "drive_output_path = 'blender_renders' #@param {type: 'string'}\n",
        "#@markdown ---\n",
        "gpu_enabled = True #@param {type:\"boolean\"}\n",
        "optix_enabled = False #@param {type:\"boolean\"}\n",
        "cpu_enabled = False #@param {type:\"boolean\"}"
      ]
    },
    {
      "cell_type": "code",
      "execution_count": 37,
      "metadata": {
        "id": "XQ0cynSzSYDd",
        "colab": {
          "base_uri": "https://localhost:8080/"
        },
        "outputId": "d92902a0-16da-49fd-86f7-afcf86c259b6"
      },
      "outputs": [
        {
          "output_type": "stream",
          "name": "stdout",
          "text": [
            "/content\n",
            "Current GPU: Tesla T4\n"
          ]
        }
      ],
      "source": [
        "%cd /content\n",
        "\n",
        "gpu = !nvidia-smi --query-gpu=gpu_name --format=csv,noheader\n",
        "print(\"Current GPU: \" + gpu[0])\n",
        "\n",
        "if gpu[0] == \"Tesla K80\" and optix_enabled:\n",
        "  print(\"OptiX disabled because of unsupported GPU\")\n",
        "  optix_enabled = False"
      ]
    },
    {
      "cell_type": "code",
      "execution_count": 38,
      "metadata": {
        "id": "pQboAtzI0Zc8",
        "colab": {
          "base_uri": "https://localhost:8080/"
        },
        "outputId": "33d5b8db-8eb2-43f4-8434-fc7f665250db"
      },
      "outputs": [
        {
          "output_type": "stream",
          "name": "stdout",
          "text": [
            "Reading package lists... Done\n",
            "Building dependency tree... Done\n",
            "Reading state information... Done\n",
            "The following packages will be REMOVED:\n",
            "  libtcmalloc-minimal4\n",
            "0 upgraded, 0 newly installed, 1 to remove and 49 not upgraded.\n",
            "After this operation, 382 kB disk space will be freed.\n",
            "(Reading database ... 123616 files and directories currently installed.)\n",
            "Removing libtcmalloc-minimal4:amd64 (2.9.1-0ubuntu3) ...\n",
            "Processing triggers for libc-bin (2.35-0ubuntu3.4) ...\n",
            "/sbin/ldconfig.real: /usr/local/lib/libtcm_debug.so.1 is not a symbolic link\n",
            "\n",
            "/sbin/ldconfig.real: /usr/local/lib/libtbbbind_2_0.so.3 is not a symbolic link\n",
            "\n",
            "/sbin/ldconfig.real: /usr/local/lib/libumf.so.0 is not a symbolic link\n",
            "\n",
            "/sbin/ldconfig.real: /usr/local/lib/libtcm.so.1 is not a symbolic link\n",
            "\n",
            "/sbin/ldconfig.real: /usr/local/lib/libtbbbind_2_5.so.3 is not a symbolic link\n",
            "\n",
            "/sbin/ldconfig.real: /usr/local/lib/libhwloc.so.15 is not a symbolic link\n",
            "\n",
            "/sbin/ldconfig.real: /usr/local/lib/libur_adapter_level_zero.so.0 is not a symbolic link\n",
            "\n",
            "/sbin/ldconfig.real: /usr/local/lib/libur_adapter_opencl.so.0 is not a symbolic link\n",
            "\n",
            "/sbin/ldconfig.real: /usr/local/lib/libtbb.so.12 is not a symbolic link\n",
            "\n",
            "/sbin/ldconfig.real: /usr/local/lib/libtbbmalloc.so.2 is not a symbolic link\n",
            "\n",
            "/sbin/ldconfig.real: /usr/local/lib/libtbbmalloc_proxy.so.2 is not a symbolic link\n",
            "\n",
            "/sbin/ldconfig.real: /usr/local/lib/libtbbbind.so.3 is not a symbolic link\n",
            "\n",
            "/sbin/ldconfig.real: /usr/local/lib/libur_loader.so.0 is not a symbolic link\n",
            "\n",
            "Reading package lists... Done\n",
            "Building dependency tree... Done\n",
            "Reading state information... Done\n",
            "The following NEW packages will be installed:\n",
            "  libtcmalloc-minimal4\n",
            "0 upgraded, 1 newly installed, 0 to remove and 49 not upgraded.\n",
            "Need to get 98.2 kB of archives.\n",
            "After this operation, 382 kB of additional disk space will be used.\n",
            "Get:1 http://archive.ubuntu.com/ubuntu jammy/main amd64 libtcmalloc-minimal4 amd64 2.9.1-0ubuntu3 [98.2 kB]\n",
            "Fetched 98.2 kB in 0s (289 kB/s)\n",
            "Selecting previously unselected package libtcmalloc-minimal4:amd64.\n",
            "(Reading database ... 123609 files and directories currently installed.)\n",
            "Preparing to unpack .../libtcmalloc-minimal4_2.9.1-0ubuntu3_amd64.deb ...\n",
            "Unpacking libtcmalloc-minimal4:amd64 (2.9.1-0ubuntu3) ...\n",
            "Setting up libtcmalloc-minimal4:amd64 (2.9.1-0ubuntu3) ...\n",
            "Processing triggers for libc-bin (2.35-0ubuntu3.4) ...\n",
            "/sbin/ldconfig.real: /usr/local/lib/libtcm_debug.so.1 is not a symbolic link\n",
            "\n",
            "/sbin/ldconfig.real: /usr/local/lib/libtbbbind_2_0.so.3 is not a symbolic link\n",
            "\n",
            "/sbin/ldconfig.real: /usr/local/lib/libumf.so.0 is not a symbolic link\n",
            "\n",
            "/sbin/ldconfig.real: /usr/local/lib/libtcm.so.1 is not a symbolic link\n",
            "\n",
            "/sbin/ldconfig.real: /usr/local/lib/libtbbbind_2_5.so.3 is not a symbolic link\n",
            "\n",
            "/sbin/ldconfig.real: /usr/local/lib/libhwloc.so.15 is not a symbolic link\n",
            "\n",
            "/sbin/ldconfig.real: /usr/local/lib/libur_adapter_level_zero.so.0 is not a symbolic link\n",
            "\n",
            "/sbin/ldconfig.real: /usr/local/lib/libur_adapter_opencl.so.0 is not a symbolic link\n",
            "\n",
            "/sbin/ldconfig.real: /usr/local/lib/libtbb.so.12 is not a symbolic link\n",
            "\n",
            "/sbin/ldconfig.real: /usr/local/lib/libtbbmalloc.so.2 is not a symbolic link\n",
            "\n",
            "/sbin/ldconfig.real: /usr/local/lib/libtbbmalloc_proxy.so.2 is not a symbolic link\n",
            "\n",
            "/sbin/ldconfig.real: /usr/local/lib/libtbbbind.so.3 is not a symbolic link\n",
            "\n",
            "/sbin/ldconfig.real: /usr/local/lib/libur_loader.so.0 is not a symbolic link\n",
            "\n"
          ]
        }
      ],
      "source": [
        "import os\n",
        "\n",
        "os.environ[\"LD_PRELOAD\"] = \"\"\n",
        "\n",
        "!apt remove libtcmalloc-minimal4\n",
        "!apt install libtcmalloc-minimal4\n",
        "\n",
        "os.environ[\"LD_PRELOAD\"] = \"/usr/lib/x86_64-linux-gnu/libtcmalloc_minimal.so.4.5.9\""
      ]
    },
    {
      "cell_type": "code",
      "execution_count": 39,
      "metadata": {
        "id": "QRzNmiHN8Xr0",
        "colab": {
          "base_uri": "https://localhost:8080/"
        },
        "outputId": "a27a1412-3465-46f0-ba1b-4e899d1fb3ed"
      },
      "outputs": [
        {
          "output_type": "stream",
          "name": "stdout",
          "text": [
            "Drive already mounted at /drive; to attempt to forcibly remount, call drive.mount(\"/drive\", force_remount=True).\n"
          ]
        }
      ],
      "source": [
        "import shutil\n",
        "from google.colab import files, drive\n",
        "uploaded_filename = \"\"\n",
        "\n",
        "if upload_type == 'google_drive' or upload_type == 'gdrive_relative' or download_type == 'google_drive' or download_type == 'gdrive_direct':\n",
        "    drive.mount('/drive')\n",
        "\n",
        "if upload_type == 'direct':\n",
        "    uploaded = files.upload()\n",
        "    for fn in uploaded.keys():\n",
        "        uploaded_filename = fn\n",
        "elif upload_type == 'url':\n",
        "    !wget -nc $url_blend\n",
        "    uploaded_filename = os.path.basename(url_blend)\n",
        "elif upload_type == 'google_drive':\n",
        "    shutil.copy('/drive/My Drive/' + drive_path, '.')\n",
        "    uploaded_filename = os.path.basename(drive_path)"
      ]
    },
    {
      "cell_type": "code",
      "execution_count": 40,
      "metadata": {
        "id": "KowqWtLzgSLw"
      },
      "outputs": [],
      "source": [
        "!rm -r render\n",
        "!mkdir render\n",
        "\n",
        "if upload_type == 'gdrive_relative':\n",
        "    if not drive_path.endswith('/'):\n",
        "        drive_path += '/'\n",
        "    !cp -r '/drive/My Drive/{drive_path}.' 'render/'\n",
        "elif uploaded_filename.lower().endswith('.zip'):\n",
        "    !unzip -o $uploaded_filename -d 'render/'\n",
        "elif uploaded_filename.lower().endswith('.blend'):\n",
        "    shutil.copy(uploaded_filename, 'render/')\n",
        "    blend_file_path = uploaded_filename\n",
        "else:\n",
        "    raise SystemExit(\"Invalid file extension, only .blend and .zip can be uploaded.\")"
      ]
    },
    {
      "cell_type": "code",
      "execution_count": 41,
      "metadata": {
        "id": "GPJ9fmoB6PWM",
        "colab": {
          "base_uri": "https://localhost:8080/"
        },
        "outputId": "e00b2c3f-1221-432b-e961-52301b059e7d"
      },
      "outputs": [
        {
          "output_type": "stream",
          "name": "stdout",
          "text": [
            "--2024-12-31 01:18:04--  https://ftp.nluug.nl/pub/graphics/blender/release/Blender4.3/blender-4.3.1-linux-x64.tar.xz\n",
            "Resolving ftp.nluug.nl (ftp.nluug.nl)... 145.220.21.40, 2001:67c:6ec:221:145:220:21:40\n",
            "Connecting to ftp.nluug.nl (ftp.nluug.nl)|145.220.21.40|:443... connected.\n",
            "HTTP request sent, awaiting response... 200 OK\n",
            "Length: 367965600 (351M) [application/octet-stream]\n",
            "Saving to: ‘blender-4.3.1-linux-x64.tar.xz’\n",
            "\n",
            "blender-4.3.1-linux 100%[===================>] 350.92M  27.9MB/s    in 14s     \n",
            "\n",
            "2024-12-31 01:18:19 (25.5 MB/s) - ‘blender-4.3.1-linux-x64.tar.xz’ saved [367965600/367965600]\n",
            "\n"
          ]
        }
      ],
      "source": [
        "# To add your own new version, go to https://ftp.nluug.nl/pub/graphics/blender/release\n",
        "# and copy the URL of the desired version linux-x64 tar archive\n",
        "# Then, edit or add the version below and also at the version selection at the top\n",
        "blender_url_dict = {'2.79b'   : \"https://ftp.nluug.nl/pub/graphics/blender/release/Blender2.79/blender-2.79b-linux-glibc219-x86_64.tar.bz2\",\n",
        "                    '2.83.20' : \"https://ftp.nluug.nl/pub/graphics/blender/release/Blender2.83/blender-2.83.20-linux-x64.tar.xz\",\n",
        "                    '2.93.18' : \"https://ftp.nluug.nl/pub/graphics/blender/release/Blender2.93/blender-2.93.18-linux-x64.tar.xz\",\n",
        "                    '3.3.21'  : \"https://ftp.nluug.nl/pub/graphics/blender/release/Blender3.3/blender-3.3.21-linux-x64.tar.xz\",\n",
        "                    '3.6.18'  : \"https://ftp.nluug.nl/pub/graphics/blender/release/Blender3.6/blender-3.6.18-linux-x64.tar.xz\",\n",
        "                    '4.2.4'   : \"https://ftp.nluug.nl/pub/graphics/blender/release/Blender4.2/blender-4.2.4-linux-x64.tar.xz\",\n",
        "                    '4.3.1'   : \"https://ftp.nluug.nl/pub/graphics/blender/release/Blender4.3/blender-4.3.1-linux-x64.tar.xz\"}\n",
        "\n",
        "blender_url = blender_url_dict[blender_version]\n",
        "base_url = os.path.basename(blender_url)\n",
        "\n",
        "!mkdir $blender_version\n",
        "!wget -nc $blender_url\n",
        "!tar -xkf $base_url -C ./$blender_version --strip-components=1"
      ]
    },
    {
      "cell_type": "code",
      "execution_count": 42,
      "metadata": {
        "id": "6elYiQrvkUAe"
      },
      "outputs": [],
      "source": [
        "# Enable GPU rendering (or add custom properties here)\n",
        "data = \"import re\\n\"+\\\n",
        "    \"import bpy\\n\"+\\\n",
        "    \"scene = bpy.context.scene\\n\"+\\\n",
        "    \"scene.cycles.device = 'GPU'\\n\"+\\\n",
        "    \"prefs = bpy.context.preferences\\n\"+\\\n",
        "    \"prefs.addons['cycles'].preferences.get_devices()\\n\"+\\\n",
        "    \"cprefs = prefs.addons['cycles'].preferences\\n\"+\\\n",
        "    \"print(cprefs)\\n\"+\\\n",
        "    \"for compute_device_type in ('CUDA', 'OPENCL', 'NONE'):\\n\"+\\\n",
        "    \"    try:\\n\"+\\\n",
        "    \"        cprefs.compute_device_type = compute_device_type\\n\"+\\\n",
        "    \"        print('Device found:',compute_device_type)\\n\"+\\\n",
        "    \"        break\\n\"+\\\n",
        "    \"    except TypeError:\\n\"+\\\n",
        "    \"        pass\\n\"+\\\n",
        "    \"for device in cprefs.devices:\\n\"+\\\n",
        "    \"    if not re.match('intel', device.name, re.I):\\n\"+\\\n",
        "    \"        print('Activating',device)\\n\"+\\\n",
        "    \"        device.use = \"+str(gpu_enabled)+\"\\n\"+\\\n",
        "    \"    else:\\n\"+\\\n",
        "    \"        device.use = \"+str(cpu_enabled)+\"\\n\"\n",
        "with open('setgpu.py', 'w') as f:\n",
        "    f.write(data)\n",
        "\n",
        "renderer = \"CUDA\"\n",
        "if optix_enabled:\n",
        "    print(\"Note: You're currently using OptiX renderer. If an error occurred, the current GPU (example: Tesla K80) is not supported and you need to switch back to Cycles.\")\n",
        "    renderer = \"OPTIX\""
      ]
    },
    {
      "cell_type": "code",
      "execution_count": 43,
      "metadata": {
        "id": "Fpk2w3yM8XqQ",
        "colab": {
          "base_uri": "https://localhost:8080/"
        },
        "outputId": "b15b114b-bbb4-43e8-9a77-2d5f19e53339"
      },
      "outputs": [
        {
          "output_type": "stream",
          "name": "stdout",
          "text": [
            "/content\n",
            "rm: cannot remove 'output': No such file or directory\n",
            "/content/4.3.1\n",
            "Blender 4.3.1 (hash 33d812126174 built 2024-12-10 09:50:28)\n",
            "Read blend: \"/content/render/movie.blend\"\n",
            "OSError: Python file \"/content/4.3.1/setgpu.py\" could not be opened: No such file or directory\n",
            "Fra:1 Mem:23.96M (Peak 23.96M) | Time:00:00.26 | Mem:0.00M, Peak:0.00M | Scene, ViewLayer | Synchronizing object | 214404_medium\n",
            "Fra:1 Mem:23.96M (Peak 23.96M) | Time:00:00.26 | Mem:0.00M, Peak:0.00M | Scene, ViewLayer | Synchronizing object | Sphere.002\n",
            "Fra:1 Mem:23.96M (Peak 23.96M) | Time:00:00.26 | Mem:0.00M, Peak:0.00M | Scene, ViewLayer | Synchronizing object | Cylinder\n",
            "Fra:1 Mem:28.56M (Peak 28.56M) | Time:00:00.27 | Mem:0.00M, Peak:0.00M | Scene, ViewLayer | Synchronizing object | Plane\n",
            "Fra:1 Mem:29.12M (Peak 29.12M) | Time:00:00.28 | Mem:0.00M, Peak:0.00M | Scene, ViewLayer | Synchronizing object | Plane.008\n",
            "Fra:1 Mem:29.33M (Peak 29.33M) | Time:00:00.28 | Mem:0.00M, Peak:0.00M | Scene, ViewLayer | Synchronizing object | Plane.004\n",
            "Fra:1 Mem:29.62M (Peak 29.62M) | Time:00:00.28 | Mem:0.00M, Peak:0.00M | Scene, ViewLayer | Synchronizing object | Plane.001\n",
            "Fra:1 Mem:29.78M (Peak 29.78M) | Time:00:00.28 | Mem:0.00M, Peak:0.00M | Scene, ViewLayer | Initializing\n",
            "Fra:1 Mem:29.74M (Peak 29.78M) | Time:00:00.28 | Mem:0.00M, Peak:0.00M | Scene, ViewLayer | Updating Images | Loading the_sky_is_on_fire_1k.hdr\n",
            "Fra:1 Mem:63.76M (Peak 103.77M) | Time:00:00.39 | Mem:24.00M, Peak:24.00M | Scene, ViewLayer | Updating Images | Loading shirt.png\n",
            "Fra:1 Mem:77.76M (Peak 103.77M) | Time:00:00.41 | Mem:32.00M, Peak:32.00M | Scene, ViewLayer | Updating Images | Loading 214404_medium.mp4\n",
            "Fra:1 Mem:77.76M (Peak 103.77M) | Time:00:00.41 | Mem:32.00M, Peak:32.00M | Scene, ViewLayer | Updating Images | Loading hair\n",
            "Fra:1 Mem:125.77M (Peak 157.78M) | Time:00:00.51 | Mem:48.00M, Peak:48.00M | Scene, ViewLayer | Updating Images | Loading hair.001\n",
            "Fra:1 Mem:109.76M (Peak 157.78M) | Time:00:00.51 | Mem:64.00M, Peak:64.00M | Scene, ViewLayer | Updating Images | Loading shoes.001\n",
            "Fra:1 Mem:157.77M (Peak 189.78M) | Time:00:00.60 | Mem:80.00M, Peak:80.00M | Scene, ViewLayer | Updating Images | Loading skin texture.001\n",
            "Fra:1 Mem:141.76M (Peak 189.78M) | Time:00:00.60 | Mem:96.00M, Peak:96.00M | Scene, ViewLayer | Updating Images | Loading shoes\n",
            "Fra:1 Mem:157.76M (Peak 221.78M) | Time:00:00.72 | Mem:112.00M, Peak:112.00M | Scene, ViewLayer | Updating Images | Loading nikker.png.001\n",
            "Fra:1 Mem:173.76M (Peak 221.78M) | Time:00:00.72 | Mem:128.00M, Peak:128.00M | Scene, ViewLayer | Updating Images | Loading skin texture.002\n",
            "Fra:1 Mem:189.76M (Peak 221.78M) | Time:00:00.80 | Mem:144.00M, Peak:144.00M | Scene, ViewLayer | Updating Images | Loading nikker normal.png\n",
            "Fra:1 Mem:205.76M (Peak 237.78M) | Time:00:00.82 | Mem:160.00M, Peak:160.00M | Scene, ViewLayer | Updating Images | Loading nikker.png\n",
            "Fra:1 Mem:220.73M (Peak 285.78M) | Time:00:00.92 | Mem:192.00M, Peak:192.00M | Scene, ViewLayer | Waiting for render to start\n",
            "Fra:1 Mem:220.74M (Peak 285.78M) | Time:00:00.92 | Mem:192.00M, Peak:192.00M | Scene, ViewLayer | Loading render kernels (may take a few minutes the first time)\n",
            "Fra:1 Mem:220.74M (Peak 285.78M) | Time:00:01.02 | Mem:192.01M, Peak:192.01M | Scene, ViewLayer | Updating Scene\n",
            "Fra:1 Mem:220.74M (Peak 285.78M) | Time:00:01.02 | Mem:192.01M, Peak:192.01M | Scene, ViewLayer | Updating Shaders\n",
            "Fra:1 Mem:220.83M (Peak 285.78M) | Time:00:01.02 | Mem:192.02M, Peak:192.02M | Scene, ViewLayer | Updating Procedurals\n",
            "Fra:1 Mem:220.83M (Peak 285.78M) | Time:00:01.02 | Mem:192.02M, Peak:192.02M | Scene, ViewLayer | Updating Background\n",
            "Fra:1 Mem:220.83M (Peak 285.78M) | Time:00:01.02 | Mem:192.02M, Peak:192.02M | Scene, ViewLayer | Updating Camera\n",
            "Fra:1 Mem:220.83M (Peak 285.78M) | Time:00:01.02 | Mem:192.02M, Peak:192.02M | Scene, ViewLayer | Updating Meshes Flags\n",
            "Fra:1 Mem:220.83M (Peak 285.78M) | Time:00:01.02 | Mem:192.02M, Peak:192.02M | Scene, ViewLayer | Updating Objects\n",
            "Fra:1 Mem:220.83M (Peak 285.78M) | Time:00:01.02 | Mem:192.02M, Peak:192.02M | Scene, ViewLayer | Updating Objects | Copying Transformations to device\n",
            "Fra:1 Mem:220.83M (Peak 285.78M) | Time:00:01.02 | Mem:192.02M, Peak:192.02M | Scene, ViewLayer | Updating Objects | Applying Static Transformations\n",
            "Fra:1 Mem:220.83M (Peak 285.78M) | Time:00:01.02 | Mem:192.02M, Peak:192.02M | Scene, ViewLayer | Updating Particle Systems\n",
            "Fra:1 Mem:220.83M (Peak 285.78M) | Time:00:01.02 | Mem:192.02M, Peak:192.02M | Scene, ViewLayer | Updating Particle Systems | Copying Particles to device\n",
            "Fra:1 Mem:220.83M (Peak 285.78M) | Time:00:01.02 | Mem:192.02M, Peak:192.02M | Scene, ViewLayer | Updating Meshes\n",
            "Fra:1 Mem:221.15M (Peak 285.78M) | Time:00:01.02 | Mem:192.02M, Peak:192.02M | Scene, ViewLayer | Updating Mesh | Computing attributes\n",
            "Fra:1 Mem:222.56M (Peak 285.78M) | Time:00:01.02 | Mem:192.02M, Peak:192.02M | Scene, ViewLayer | Updating Mesh | Copying Attributes to device\n",
            "Fra:1 Mem:222.56M (Peak 285.78M) | Time:00:01.02 | Mem:193.43M, Peak:193.43M | Scene, ViewLayer | Updating Scene BVH | Building\n",
            "Fra:1 Mem:222.56M (Peak 285.78M) | Time:00:01.02 | Mem:193.43M, Peak:193.43M | Scene, ViewLayer | Updating Scene BVH | Building BVH\n",
            "Fra:1 Mem:223.78M (Peak 285.78M) | Time:00:01.04 | Mem:193.43M, Peak:193.43M | Scene, ViewLayer | Updating Scene BVH | Packing BVH triangles and strands\n",
            "Fra:1 Mem:223.86M (Peak 285.78M) | Time:00:01.04 | Mem:193.43M, Peak:193.43M | Scene, ViewLayer | Updating Scene BVH | Packing BVH nodes\n",
            "Fra:1 Mem:223.86M (Peak 285.78M) | Time:00:01.04 | Mem:193.43M, Peak:193.43M | Scene, ViewLayer | Updating Scene BVH | Copying BVH to device\n",
            "Fra:1 Mem:223.86M (Peak 285.78M) | Time:00:01.04 | Mem:194.08M, Peak:194.08M | Scene, ViewLayer | Updating Mesh | Computing normals\n",
            "Fra:1 Mem:224.60M (Peak 285.78M) | Time:00:01.04 | Mem:194.08M, Peak:194.08M | Scene, ViewLayer | Updating Mesh | Copying Mesh to device\n",
            "Fra:1 Mem:224.60M (Peak 285.78M) | Time:00:01.04 | Mem:194.83M, Peak:194.83M | Scene, ViewLayer | Updating Objects Flags\n",
            "Fra:1 Mem:224.60M (Peak 285.78M) | Time:00:01.04 | Mem:194.83M, Peak:194.83M | Scene, ViewLayer | Updating Primitive Offsets\n",
            "Fra:1 Mem:224.60M (Peak 285.78M) | Time:00:01.04 | Mem:194.83M, Peak:194.83M | Scene, ViewLayer | Updating Images\n",
            "Fra:1 Mem:224.60M (Peak 285.78M) | Time:00:01.04 | Mem:194.83M, Peak:194.83M | Scene, ViewLayer | Updating Images | Loading \n",
            "Fra:1 Mem:224.60M (Peak 285.78M) | Time:00:01.04 | Mem:194.83M, Peak:194.83M | Scene, ViewLayer | Updating Camera Volume\n",
            "Fra:1 Mem:224.60M (Peak 285.78M) | Time:00:01.04 | Mem:194.83M, Peak:194.83M | Scene, ViewLayer | Updating Lookup Tables\n",
            "Fra:1 Mem:224.60M (Peak 285.78M) | Time:00:01.04 | Mem:194.91M, Peak:194.91M | Scene, ViewLayer | Updating Lights\n",
            "Fra:1 Mem:224.60M (Peak 285.78M) | Time:00:01.04 | Mem:194.91M, Peak:194.91M | Scene, ViewLayer | Updating Lights | Importance map\n",
            "Fra:1 Mem:288.64M (Peak 576.60M) | Time:00:01.30 | Mem:258.94M, Peak:418.91M | Scene, ViewLayer | Updating Lights | Computing tree\n",
            "Fra:1 Mem:288.64M (Peak 576.60M) | Time:00:01.30 | Mem:258.94M, Peak:418.91M | Scene, ViewLayer | Updating Integrator\n",
            "Fra:1 Mem:288.64M (Peak 576.60M) | Time:00:01.30 | Mem:258.94M, Peak:418.91M | Scene, ViewLayer | Updating Film\n",
            "Fra:1 Mem:288.64M (Peak 576.60M) | Time:00:01.30 | Mem:258.86M, Peak:418.91M | Scene, ViewLayer | Updating Lookup Tables\n",
            "Fra:1 Mem:288.64M (Peak 576.60M) | Time:00:01.30 | Mem:258.94M, Peak:418.91M | Scene, ViewLayer | Updating Baking\n",
            "Fra:1 Mem:288.64M (Peak 576.60M) | Time:00:01.30 | Mem:258.94M, Peak:418.91M | Scene, ViewLayer | Updating Device | Writing constant memory\n",
            "Fra:1 Mem:288.64M (Peak 576.60M) | Time:00:01.30 | Mem:258.94M, Peak:418.91M | Scene, ViewLayer | Loading denoising kernels (may take a few minutes the first time)\n",
            "Fra:1 Mem:292.64M (Peak 576.60M) | Time:00:01.31 | Mem:602.94M, Peak:602.94M | Scene, ViewLayer | Sample 0/4096\n",
            "Fra:1 Mem:442.94M (Peak 576.60M) | Time:00:01.42 | Remaining:07:59.89 | Mem:753.24M, Peak:753.24M | Scene, ViewLayer | Sample 1/4096\n",
            "Fra:1 Mem:442.95M (Peak 576.60M) | Time:00:07.35 | Remaining:05:03.35 | Mem:753.24M, Peak:753.24M | Scene, ViewLayer | Sample 80/4096\n",
            "Fra:1 Mem:442.95M (Peak 576.60M) | Time:00:08.55 | Remaining:05:01.90 | Mem:753.24M, Peak:753.24M | Scene, ViewLayer | Sample 96/4096\n",
            "Fra:1 Mem:442.95M (Peak 576.60M) | Time:00:09.75 | Remaining:05:00.27 | Mem:753.24M, Peak:753.24M | Scene, ViewLayer | Sample 112/4096\n",
            "Fra:1 Mem:442.95M (Peak 576.60M) | Time:00:10.94 | Remaining:04:58.72 | Mem:753.24M, Peak:753.24M | Scene, ViewLayer | Sample 128/4096\n",
            "Fra:1 Mem:442.95M (Peak 576.60M) | Time:00:12.13 | Remaining:04:57.11 | Mem:753.24M, Peak:753.24M | Scene, ViewLayer | Sample 144/4096\n",
            "Fra:1 Mem:442.95M (Peak 576.60M) | Time:00:13.32 | Remaining:04:55.47 | Mem:753.24M, Peak:753.24M | Scene, ViewLayer | Sample 160/4096\n",
            "Fra:1 Mem:442.95M (Peak 576.60M) | Time:00:14.49 | Remaining:04:53.72 | Mem:753.24M, Peak:753.24M | Scene, ViewLayer | Sample 176/4096\n",
            "Fra:1 Mem:442.95M (Peak 576.60M) | Time:00:15.66 | Remaining:04:51.91 | Mem:753.24M, Peak:753.24M | Scene, ViewLayer | Sample 192/4096\n",
            "Fra:1 Mem:442.95M (Peak 576.60M) | Time:00:16.82 | Remaining:04:50.03 | Mem:753.24M, Peak:753.24M | Scene, ViewLayer | Sample 208/4096\n",
            "Fra:1 Mem:442.95M (Peak 576.60M) | Time:00:17.98 | Remaining:04:48.26 | Mem:753.24M, Peak:753.24M | Scene, ViewLayer | Sample 224/4096\n",
            "Fra:1 Mem:442.95M (Peak 576.60M) | Time:00:19.12 | Remaining:04:46.25 | Mem:753.24M, Peak:753.24M | Scene, ViewLayer | Sample 240/4096\n",
            "Fra:1 Mem:442.95M (Peak 576.60M) | Time:00:20.26 | Remaining:04:44.24 | Mem:753.24M, Peak:753.24M | Scene, ViewLayer | Sample 256/4096\n",
            "Fra:1 Mem:442.95M (Peak 576.60M) | Time:00:21.37 | Remaining:04:42.09 | Mem:753.24M, Peak:753.24M | Scene, ViewLayer | Sample 272/4096\n",
            "Fra:1 Mem:442.95M (Peak 576.60M) | Time:00:22.47 | Remaining:04:39.82 | Mem:753.24M, Peak:753.24M | Scene, ViewLayer | Sample 288/4096\n",
            "Fra:1 Mem:442.95M (Peak 576.60M) | Time:00:23.55 | Remaining:04:37.49 | Mem:753.24M, Peak:753.24M | Scene, ViewLayer | Sample 304/4096\n",
            "Fra:1 Mem:442.95M (Peak 576.60M) | Time:00:24.62 | Remaining:04:35.11 | Mem:753.24M, Peak:753.24M | Scene, ViewLayer | Sample 320/4096\n",
            "Fra:1 Mem:442.95M (Peak 576.60M) | Time:00:25.67 | Remaining:04:32.67 | Mem:753.24M, Peak:753.24M | Scene, ViewLayer | Sample 336/4096\n",
            "Fra:1 Mem:442.95M (Peak 576.60M) | Time:00:26.71 | Remaining:04:30.19 | Mem:753.24M, Peak:753.24M | Scene, ViewLayer | Sample 352/4096\n",
            "Fra:1 Mem:442.95M (Peak 576.60M) | Time:00:27.73 | Remaining:04:27.70 | Mem:753.24M, Peak:753.24M | Scene, ViewLayer | Sample 368/4096\n",
            "Fra:1 Mem:442.95M (Peak 576.60M) | Time:00:28.74 | Remaining:04:25.22 | Mem:753.24M, Peak:753.24M | Scene, ViewLayer | Sample 384/4096\n",
            "Fra:1 Mem:442.95M (Peak 576.60M) | Time:00:29.73 | Remaining:04:22.65 | Mem:753.24M, Peak:753.24M | Scene, ViewLayer | Sample 400/4096\n",
            "Fra:1 Mem:442.95M (Peak 576.60M) | Time:00:30.71 | Remaining:04:20.08 | Mem:753.24M, Peak:753.24M | Scene, ViewLayer | Sample 416/4096\n",
            "Fra:1 Mem:442.95M (Peak 576.60M) | Time:00:31.67 | Remaining:04:17.49 | Mem:753.24M, Peak:753.24M | Scene, ViewLayer | Sample 432/4096\n",
            "Fra:1 Mem:442.95M (Peak 576.60M) | Time:00:32.61 | Remaining:04:14.90 | Mem:753.24M, Peak:753.24M | Scene, ViewLayer | Sample 448/4096\n",
            "Fra:1 Mem:442.95M (Peak 576.60M) | Time:00:33.55 | Remaining:04:12.41 | Mem:753.24M, Peak:753.24M | Scene, ViewLayer | Sample 464/4096\n",
            "Fra:1 Mem:442.95M (Peak 576.60M) | Time:00:34.47 | Remaining:04:09.84 | Mem:753.24M, Peak:753.24M | Scene, ViewLayer | Sample 480/4096\n",
            "Fra:1 Mem:442.95M (Peak 576.60M) | Time:00:35.37 | Remaining:04:07.26 | Mem:753.24M, Peak:753.24M | Scene, ViewLayer | Sample 496/4096\n",
            "Fra:1 Mem:442.95M (Peak 576.60M) | Time:00:36.26 | Remaining:04:04.66 | Mem:753.24M, Peak:753.24M | Scene, ViewLayer | Sample 512/4096\n",
            "Fra:1 Mem:442.95M (Peak 576.60M) | Time:00:37.13 | Remaining:04:02.05 | Mem:753.24M, Peak:753.24M | Scene, ViewLayer | Sample 528/4096\n",
            "Fra:1 Mem:442.95M (Peak 576.60M) | Time:00:37.98 | Remaining:03:59.43 | Mem:753.24M, Peak:753.24M | Scene, ViewLayer | Sample 544/4096\n",
            "Fra:1 Mem:442.95M (Peak 576.60M) | Time:00:38.81 | Remaining:03:56.82 | Mem:753.24M, Peak:753.24M | Scene, ViewLayer | Sample 560/4096\n",
            "Fra:1 Mem:442.95M (Peak 576.60M) | Time:00:39.64 | Remaining:03:54.23 | Mem:753.24M, Peak:753.24M | Scene, ViewLayer | Sample 576/4096\n",
            "Fra:1 Mem:442.95M (Peak 576.60M) | Time:00:40.45 | Remaining:03:51.66 | Mem:753.24M, Peak:753.24M | Scene, ViewLayer | Sample 592/4096\n",
            "Fra:1 Mem:442.95M (Peak 576.60M) | Time:00:41.24 | Remaining:03:49.09 | Mem:753.24M, Peak:753.24M | Scene, ViewLayer | Sample 608/4096\n",
            "Fra:1 Mem:442.95M (Peak 576.60M) | Time:00:42.02 | Remaining:03:46.54 | Mem:753.24M, Peak:753.24M | Scene, ViewLayer | Sample 624/4096\n",
            "Fra:1 Mem:442.95M (Peak 576.60M) | Time:00:42.79 | Remaining:03:44.02 | Mem:753.24M, Peak:753.24M | Scene, ViewLayer | Sample 640/4096\n",
            "Fra:1 Mem:442.95M (Peak 576.60M) | Time:00:43.55 | Remaining:03:41.50 | Mem:753.24M, Peak:753.24M | Scene, ViewLayer | Sample 656/4096\n",
            "Fra:1 Mem:442.95M (Peak 576.60M) | Time:00:44.29 | Remaining:03:39.01 | Mem:753.24M, Peak:753.24M | Scene, ViewLayer | Sample 672/4096\n",
            "Fra:1 Mem:442.95M (Peak 576.60M) | Time:00:45.02 | Remaining:03:36.53 | Mem:753.24M, Peak:753.24M | Scene, ViewLayer | Sample 688/4096\n",
            "Fra:1 Mem:442.95M (Peak 576.60M) | Time:00:45.74 | Remaining:03:34.07 | Mem:753.24M, Peak:753.24M | Scene, ViewLayer | Sample 704/4096\n",
            "Fra:1 Mem:442.95M (Peak 576.60M) | Time:00:46.44 | Remaining:03:31.64 | Mem:753.24M, Peak:753.24M | Scene, ViewLayer | Sample 720/4096\n",
            "Fra:1 Mem:442.95M (Peak 576.60M) | Time:00:47.15 | Remaining:03:29.27 | Mem:753.24M, Peak:753.24M | Scene, ViewLayer | Sample 736/4096\n",
            "Fra:1 Mem:442.95M (Peak 576.60M) | Time:00:47.83 | Remaining:03:26.88 | Mem:753.24M, Peak:753.24M | Scene, ViewLayer | Sample 752/4096\n",
            "Fra:1 Mem:442.95M (Peak 576.60M) | Time:00:48.51 | Remaining:03:24.55 | Mem:753.24M, Peak:753.24M | Scene, ViewLayer | Sample 768/4096\n",
            "Fra:1 Mem:442.95M (Peak 576.60M) | Time:00:49.18 | Remaining:03:22.24 | Mem:753.24M, Peak:753.24M | Scene, ViewLayer | Sample 784/4096\n",
            "Fra:1 Mem:442.95M (Peak 576.60M) | Time:00:49.83 | Remaining:03:19.93 | Mem:753.24M, Peak:753.24M | Scene, ViewLayer | Sample 800/4096\n",
            "Fra:1 Mem:442.95M (Peak 576.60M) | Time:00:50.48 | Remaining:03:17.66 | Mem:753.24M, Peak:753.24M | Scene, ViewLayer | Sample 816/4096\n",
            "Fra:1 Mem:442.95M (Peak 576.60M) | Time:00:51.11 | Remaining:03:15.39 | Mem:753.24M, Peak:753.24M | Scene, ViewLayer | Sample 832/4096\n",
            "Fra:1 Mem:442.95M (Peak 576.60M) | Time:00:51.73 | Remaining:03:13.14 | Mem:753.24M, Peak:753.24M | Scene, ViewLayer | Sample 848/4096\n",
            "Fra:1 Mem:442.95M (Peak 576.60M) | Time:00:52.34 | Remaining:03:10.91 | Mem:753.24M, Peak:753.24M | Scene, ViewLayer | Sample 864/4096\n",
            "Fra:1 Mem:442.95M (Peak 576.60M) | Time:00:52.94 | Remaining:03:08.71 | Mem:753.24M, Peak:753.24M | Scene, ViewLayer | Sample 880/4096\n",
            "Fra:1 Mem:442.95M (Peak 576.60M) | Time:00:53.53 | Remaining:03:06.53 | Mem:753.24M, Peak:753.24M | Scene, ViewLayer | Sample 896/4096\n",
            "Fra:1 Mem:442.95M (Peak 576.60M) | Time:00:54.12 | Remaining:03:04.36 | Mem:753.24M, Peak:753.24M | Scene, ViewLayer | Sample 912/4096\n",
            "Fra:1 Mem:442.95M (Peak 576.60M) | Time:00:54.69 | Remaining:03:02.22 | Mem:753.24M, Peak:753.24M | Scene, ViewLayer | Sample 928/4096\n",
            "Fra:1 Mem:442.95M (Peak 576.60M) | Time:00:55.25 | Remaining:03:00.10 | Mem:753.24M, Peak:753.24M | Scene, ViewLayer | Sample 944/4096\n",
            "Fra:1 Mem:442.95M (Peak 576.60M) | Time:00:55.80 | Remaining:02:58.01 | Mem:753.24M, Peak:753.24M | Scene, ViewLayer | Sample 960/4096\n",
            "Fra:1 Mem:442.95M (Peak 576.60M) | Time:00:56.34 | Remaining:02:55.94 | Mem:753.24M, Peak:753.24M | Scene, ViewLayer | Sample 976/4096\n",
            "Fra:1 Mem:442.95M (Peak 576.60M) | Time:00:56.88 | Remaining:02:53.89 | Mem:753.24M, Peak:753.24M | Scene, ViewLayer | Sample 992/4096\n",
            "Fra:1 Mem:442.95M (Peak 576.60M) | Time:00:57.41 | Remaining:02:51.86 | Mem:753.24M, Peak:753.24M | Scene, ViewLayer | Sample 1008/4096\n",
            "Fra:1 Mem:442.95M (Peak 576.60M) | Time:00:57.93 | Remaining:02:49.86 | Mem:753.24M, Peak:753.24M | Scene, ViewLayer | Sample 1024/4096\n",
            "Fra:1 Mem:442.95M (Peak 576.60M) | Time:00:58.44 | Remaining:02:47.88 | Mem:753.24M, Peak:753.24M | Scene, ViewLayer | Sample 1040/4096\n",
            "Fra:1 Mem:442.95M (Peak 576.60M) | Time:00:58.94 | Remaining:02:45.91 | Mem:753.24M, Peak:753.24M | Scene, ViewLayer | Sample 1056/4096\n",
            "Fra:1 Mem:442.95M (Peak 576.60M) | Time:00:59.44 | Remaining:02:43.97 | Mem:753.24M, Peak:753.24M | Scene, ViewLayer | Sample 1072/4096\n",
            "Fra:1 Mem:442.95M (Peak 576.60M) | Time:00:59.92 | Remaining:02:42.06 | Mem:753.24M, Peak:753.24M | Scene, ViewLayer | Sample 1088/4096\n",
            "Fra:1 Mem:442.95M (Peak 576.60M) | Time:01:00.40 | Remaining:02:40.16 | Mem:753.24M, Peak:753.24M | Scene, ViewLayer | Sample 1104/4096\n",
            "Fra:1 Mem:442.95M (Peak 576.60M) | Time:01:00.88 | Remaining:02:38.28 | Mem:753.24M, Peak:753.24M | Scene, ViewLayer | Sample 1120/4096\n",
            "Fra:1 Mem:442.95M (Peak 576.60M) | Time:01:01.35 | Remaining:02:36.44 | Mem:753.24M, Peak:753.24M | Scene, ViewLayer | Sample 1136/4096\n",
            "Fra:1 Mem:442.95M (Peak 576.60M) | Time:01:01.80 | Remaining:02:34.59 | Mem:753.24M, Peak:753.24M | Scene, ViewLayer | Sample 1152/4096\n",
            "Fra:1 Mem:442.95M (Peak 576.60M) | Time:01:02.26 | Remaining:02:32.79 | Mem:753.24M, Peak:753.24M | Scene, ViewLayer | Sample 1168/4096\n",
            "Fra:1 Mem:442.95M (Peak 576.60M) | Time:01:02.70 | Remaining:02:31.00 | Mem:753.24M, Peak:753.24M | Scene, ViewLayer | Sample 1184/4096\n",
            "Fra:1 Mem:442.95M (Peak 576.60M) | Time:01:03.16 | Remaining:02:29.27 | Mem:753.24M, Peak:753.24M | Scene, ViewLayer | Sample 1200/4096\n",
            "Fra:1 Mem:442.95M (Peak 576.60M) | Time:01:03.59 | Remaining:02:27.52 | Mem:753.24M, Peak:753.24M | Scene, ViewLayer | Sample 1216/4096\n",
            "Fra:1 Mem:442.95M (Peak 576.60M) | Time:01:04.02 | Remaining:02:25.79 | Mem:753.24M, Peak:753.24M | Scene, ViewLayer | Sample 1232/4096\n",
            "Fra:1 Mem:442.95M (Peak 576.60M) | Time:01:04.44 | Remaining:02:24.07 | Mem:753.24M, Peak:753.24M | Scene, ViewLayer | Sample 1248/4096\n",
            "Fra:1 Mem:442.95M (Peak 576.60M) | Time:01:04.86 | Remaining:02:22.38 | Mem:753.24M, Peak:753.24M | Scene, ViewLayer | Sample 1264/4096\n",
            "Fra:1 Mem:442.95M (Peak 576.60M) | Time:01:05.27 | Remaining:02:20.72 | Mem:753.24M, Peak:753.24M | Scene, ViewLayer | Sample 1280/4096\n",
            "Fra:1 Mem:442.95M (Peak 576.60M) | Time:01:05.68 | Remaining:02:19.07 | Mem:753.24M, Peak:753.24M | Scene, ViewLayer | Sample 1296/4096\n",
            "Fra:1 Mem:442.95M (Peak 576.60M) | Time:01:06.07 | Remaining:02:17.42 | Mem:753.24M, Peak:753.24M | Scene, ViewLayer | Sample 1312/4096\n",
            "Fra:1 Mem:442.95M (Peak 576.60M) | Time:01:06.45 | Remaining:02:15.78 | Mem:753.24M, Peak:753.24M | Scene, ViewLayer | Sample 1328/4096\n",
            "Fra:1 Mem:442.95M (Peak 576.60M) | Time:01:06.83 | Remaining:02:14.17 | Mem:753.24M, Peak:753.24M | Scene, ViewLayer | Sample 1344/4096\n",
            "Fra:1 Mem:442.95M (Peak 576.60M) | Time:01:07.20 | Remaining:02:12.57 | Mem:753.24M, Peak:753.24M | Scene, ViewLayer | Sample 1360/4096\n",
            "Fra:1 Mem:442.95M (Peak 576.60M) | Time:01:07.57 | Remaining:02:10.99 | Mem:753.24M, Peak:753.24M | Scene, ViewLayer | Sample 1376/4096\n",
            "Fra:1 Mem:442.95M (Peak 576.60M) | Time:01:07.93 | Remaining:02:09.42 | Mem:753.24M, Peak:753.24M | Scene, ViewLayer | Sample 1392/4096\n",
            "Fra:1 Mem:442.95M (Peak 576.60M) | Time:01:08.29 | Remaining:02:07.87 | Mem:753.24M, Peak:753.24M | Scene, ViewLayer | Sample 1408/4096\n",
            "Fra:1 Mem:442.95M (Peak 576.60M) | Time:01:08.64 | Remaining:02:06.34 | Mem:753.24M, Peak:753.24M | Scene, ViewLayer | Sample 1424/4096\n",
            "Fra:1 Mem:442.95M (Peak 576.60M) | Time:01:08.99 | Remaining:02:04.83 | Mem:753.24M, Peak:753.24M | Scene, ViewLayer | Sample 1440/4096\n",
            "Fra:1 Mem:442.95M (Peak 576.60M) | Time:01:09.33 | Remaining:02:03.33 | Mem:753.24M, Peak:753.24M | Scene, ViewLayer | Sample 1456/4096\n",
            "Fra:1 Mem:442.95M (Peak 576.60M) | Time:01:09.66 | Remaining:02:01.85 | Mem:753.24M, Peak:753.24M | Scene, ViewLayer | Sample 1472/4096\n",
            "Fra:1 Mem:442.95M (Peak 576.60M) | Time:01:09.99 | Remaining:02:00.38 | Mem:753.24M, Peak:753.24M | Scene, ViewLayer | Sample 1488/4096\n",
            "Fra:1 Mem:442.95M (Peak 576.60M) | Time:01:10.32 | Remaining:01:58.93 | Mem:753.24M, Peak:753.24M | Scene, ViewLayer | Sample 1504/4096\n",
            "Fra:1 Mem:442.95M (Peak 576.60M) | Time:01:10.64 | Remaining:01:57.49 | Mem:753.24M, Peak:753.24M | Scene, ViewLayer | Sample 1520/4096\n",
            "Fra:1 Mem:442.95M (Peak 576.60M) | Time:01:10.95 | Remaining:01:56.07 | Mem:753.24M, Peak:753.24M | Scene, ViewLayer | Sample 1536/4096\n",
            "Fra:1 Mem:442.95M (Peak 576.60M) | Time:01:11.26 | Remaining:01:54.66 | Mem:753.24M, Peak:753.24M | Scene, ViewLayer | Sample 1552/4096\n",
            "Fra:1 Mem:442.95M (Peak 576.60M) | Time:01:11.57 | Remaining:01:53.27 | Mem:753.24M, Peak:753.24M | Scene, ViewLayer | Sample 1568/4096\n",
            "Fra:1 Mem:442.95M (Peak 576.60M) | Time:01:11.87 | Remaining:01:51.90 | Mem:753.24M, Peak:753.24M | Scene, ViewLayer | Sample 1584/4096\n",
            "Fra:1 Mem:442.95M (Peak 576.60M) | Time:01:12.17 | Remaining:01:50.54 | Mem:753.24M, Peak:753.24M | Scene, ViewLayer | Sample 1600/4096\n",
            "Fra:1 Mem:442.95M (Peak 576.60M) | Time:01:12.46 | Remaining:01:49.19 | Mem:753.24M, Peak:753.24M | Scene, ViewLayer | Sample 1616/4096\n",
            "Fra:1 Mem:442.95M (Peak 576.60M) | Time:01:12.74 | Remaining:01:47.85 | Mem:753.24M, Peak:753.24M | Scene, ViewLayer | Sample 1632/4096\n",
            "Fra:1 Mem:442.95M (Peak 576.60M) | Time:01:13.03 | Remaining:01:46.53 | Mem:753.24M, Peak:753.24M | Scene, ViewLayer | Sample 1648/4096\n",
            "Fra:1 Mem:442.95M (Peak 576.60M) | Time:01:13.31 | Remaining:01:45.23 | Mem:753.24M, Peak:753.24M | Scene, ViewLayer | Sample 1664/4096\n",
            "Fra:1 Mem:442.95M (Peak 576.60M) | Time:01:13.58 | Remaining:01:43.93 | Mem:753.24M, Peak:753.24M | Scene, ViewLayer | Sample 1680/4096\n",
            "Fra:1 Mem:442.95M (Peak 576.60M) | Time:01:13.85 | Remaining:01:42.65 | Mem:753.24M, Peak:753.24M | Scene, ViewLayer | Sample 1696/4096\n",
            "Fra:1 Mem:442.95M (Peak 576.60M) | Time:01:14.12 | Remaining:01:41.39 | Mem:753.24M, Peak:753.24M | Scene, ViewLayer | Sample 1712/4096\n",
            "Fra:1 Mem:442.95M (Peak 576.60M) | Time:01:14.38 | Remaining:01:40.13 | Mem:753.24M, Peak:753.24M | Scene, ViewLayer | Sample 1728/4096\n",
            "Fra:1 Mem:442.95M (Peak 576.60M) | Time:01:14.64 | Remaining:01:38.89 | Mem:753.24M, Peak:753.24M | Scene, ViewLayer | Sample 1744/4096\n",
            "Fra:1 Mem:442.95M (Peak 576.60M) | Time:01:14.89 | Remaining:01:37.66 | Mem:753.24M, Peak:753.24M | Scene, ViewLayer | Sample 1760/4096\n",
            "Fra:1 Mem:442.95M (Peak 576.60M) | Time:01:15.14 | Remaining:01:36.44 | Mem:753.24M, Peak:753.24M | Scene, ViewLayer | Sample 1776/4096\n",
            "Fra:1 Mem:442.95M (Peak 576.60M) | Time:01:15.39 | Remaining:01:35.24 | Mem:753.24M, Peak:753.24M | Scene, ViewLayer | Sample 1792/4096\n",
            "Fra:1 Mem:442.95M (Peak 576.60M) | Time:01:15.63 | Remaining:01:34.05 | Mem:753.24M, Peak:753.24M | Scene, ViewLayer | Sample 1808/4096\n",
            "Fra:1 Mem:442.95M (Peak 576.60M) | Time:01:15.87 | Remaining:01:32.88 | Mem:753.24M, Peak:753.24M | Scene, ViewLayer | Sample 1824/4096\n",
            "Fra:1 Mem:442.95M (Peak 576.60M) | Time:01:16.11 | Remaining:01:31.71 | Mem:753.24M, Peak:753.24M | Scene, ViewLayer | Sample 1840/4096\n",
            "Fra:1 Mem:442.95M (Peak 576.60M) | Time:01:16.34 | Remaining:01:30.56 | Mem:753.24M, Peak:753.24M | Scene, ViewLayer | Sample 1856/4096\n",
            "\n",
            "Sent an internal break event. Press ^C again to kill Blender\n",
            "\n",
            "Blender killed\n",
            "Driver deinitialized in cuCtxPopCurrent(NULL) (intern/cycles/device/cuda/util.cpp:19)\n",
            "\n",
            "Refer to the Cycles GPU rendering documentation for possible solutions:\n",
            "https://docs.blender.org/manual/en/latest/render/cycles/gpu_rendering.html\n",
            "\n",
            "Driver deinitialized in cuCtxPushCurrent(device->cuContext) (intern/cycles/device/cuda/util.cpp:14)\n",
            "Driver deinitialized in cuCtxPopCurrent(NULL) (intern/cycles/device/cuda/util.cpp:19)\n"
          ]
        }
      ],
      "source": [
        "%cd /content\n",
        "\n",
        "!rm -r output\n",
        "!mkdir output\n",
        "\n",
        "if not drive_output_path.endswith('/'):\n",
        "    drive_output_path += '/'\n",
        "\n",
        "if download_type != 'gdrive_direct':\n",
        "    output_path = '/content/output/' + output_name\n",
        "else:\n",
        "    output_path = '/drive/My Drive/' + drive_output_path + output_name\n",
        "\n",
        "%cd /content/$blender_version\n",
        "\n",
        "if animation:\n",
        "    if start_frame == end_frame:\n",
        "        !./$blender_version/blender -b '/content/render/{blend_file_path}' -P setgpu.py -E CYCLES -o '{output_path}' -noaudio -a -- --cycles-device \"{renderer}\"\n",
        "    else:\n",
        "        !./$blender_version/blender -b '/content/render/{blend_file_path}' -P setgpu.py -E CYCLES -o '{output_path}' -noaudio -s $start_frame -e $end_frame -a -- --cycles-device \"{renderer}\"\n",
        "else:\n",
        "    !./$blender_version/blender -b '/content/render/{blend_file_path}' -P setgpu.py -E CYCLES -o '{output_path}' -noaudio -f $start_frame -- --cycles-device \"{renderer}\""
      ]
    },
    {
      "cell_type": "code",
      "execution_count": null,
      "metadata": {
        "id": "IjN_CFwEIB6f"
      },
      "outputs": [],
      "source": [
        "%cd /content\n",
        "\n",
        "path, dirs, files_folder = next(os.walk(\"output\"))\n",
        "output_folder_name = output_name.replace('#', '') + 'render'\n",
        "\n",
        "if download_type == 'gdrive_direct':\n",
        "    pass\n",
        "elif len(files_folder) == 1:\n",
        "    render_img = 'output/' + files_folder[0]\n",
        "    if download_type == 'direct':\n",
        "        files.download('output/' + files_folder[0])\n",
        "    else:\n",
        "        shutil.copy('/content/' + render_img, '/drive/My Drive/' + drive_output_path)\n",
        "elif len(files_folder) > 1:\n",
        "    if zip_files:\n",
        "        shutil.make_archive(output_folder_name, 'zip', 'output')\n",
        "    if download_type == 'direct':\n",
        "        files.download(output_folder_name + '.zip')\n",
        "    else:\n",
        "        shutil.copy('/content/' + output_folder_name + \".zip\", '/drive/My Drive/' + drive_output_path)\n",
        "elif download_type == 'direct':\n",
        "    for f in files_folder:\n",
        "        files.download('output/{}'.format(f))\n",
        "    # Drive, no zip\n",
        "    else:\n",
        "        for f in files_folder:\n",
        "          shutil.copy(\"/content/output/\" + f, '/drive/My Drive/' + drive_output_path + f)\n",
        "else:\n",
        "    raise SystemExit(\"No frames are rendered.\")"
      ]
    },
    {
      "cell_type": "markdown",
      "metadata": {
        "id": "IeNhVz4Uds_7"
      },
      "source": [
        "## Disclaimer\n",
        "Google Colab is targeted to researchers and students to run AI/ML tasks, data analysis and education, not rendering 3D scenes. Because the computing power provided are free, the usage limits, idle timeouts and speed of the rendering may varies time by time. [Colab Pro and Colab Pro+](https://colab.research.google.com/signup) are available for those who wanted to have more powerful GPU and longer runtimes for rendering. See the [FAQ](https://research.google.com/colaboratory/faq.html) for more info. In some cases, it might be faster to use an online Blender renderfarm.\n",
        "\n",
        "## License\n",
        "```\n",
        "MIT License\n",
        "\n",
        "Copyright (c) 2020-2022 ynshung\n",
        "\n",
        "Permission is hereby granted, free of charge, to any person obtaining a copy\n",
        "of this software and associated documentation files (the \"Software\"), to deal\n",
        "in the Software without restriction, including without limitation the rights\n",
        "to use, copy, modify, merge, publish, distribute, sublicense, and/or sell\n",
        "copies of the Software, and to permit persons to whom the Software is\n",
        "furnished to do so, subject to the following conditions:\n",
        "\n",
        "The above copyright notice and this permission notice shall be included in all\n",
        "copies or substantial portions of the Software.\n",
        "\n",
        "THE SOFTWARE IS PROVIDED \"AS IS\", WITHOUT WARRANTY OF ANY KIND, EXPRESS OR\n",
        "IMPLIED, INCLUDING BUT NOT LIMITED TO THE WARRANTIES OF MERCHANTABILITY,\n",
        "FITNESS FOR A PARTICULAR PURPOSE AND NONINFRINGEMENT. IN NO EVENT SHALL THE\n",
        "AUTHORS OR COPYRIGHT HOLDERS BE LIABLE FOR ANY CLAIM, DAMAGES OR OTHER\n",
        "LIABILITY, WHETHER IN AN ACTION OF CONTRACT, TORT OR OTHERWISE, ARISING FROM,\n",
        "OUT OF OR IN CONNECTION WITH THE SOFTWARE OR THE USE OR OTHER DEALINGS IN THE\n",
        "SOFTWARE.\n",
        "```"
      ]
    }
  ],
  "metadata": {
    "accelerator": "GPU",
    "colab": {
      "name": "blender-render.ipynb",
      "provenance": [],
      "toc_visible": true,
      "gpuType": "T4"
    },
    "kernelspec": {
      "display_name": "Python 3",
      "name": "python3"
    },
    "language_info": {
      "codemirror_mode": {
        "name": "ipython",
        "version": 3
      },
      "file_extension": ".py",
      "mimetype": "text/x-python",
      "name": "python",
      "nbconvert_exporter": "python",
      "pygments_lexer": "ipython3",
      "version": "3.7.4"
    }
  },
  "nbformat": 4,
  "nbformat_minor": 0
}